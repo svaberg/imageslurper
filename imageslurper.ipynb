print(data.keys())
#
# Error analysis
#

fig, axs = plt.subplots(4,1, figsize=(12, 12), sharex=True)
ax = axs[0]
ax.plot(data['scaled_image'].ravel(), data['residual_norm'].ravel(), ',', color='gray')
ax.set_ylabel('RGB residual')

for _id, color in enumerate(('red', 'green', 'blue')):
    ax = axs[_id+1]
    ax.plot(data['scaled_image'].ravel(), np.abs(data['residual_rgb'][..., _id].ravel()), ',', color=color)
    ax.set_ylabel('RGB residual')
ax.set_xlabel('Pixel fitted value')
plt.show()

# ids = np.argsort(data['scaled_image'].ravel())
# plt.plot(data['nearest_indices'].ravel()[ids], np.abs(data['residual_rgb'].ravel()[ids]), ',')

means = np.zeros((data['colorbar_data'].shape[0], 3))
p10 = np.zeros((data['colorbar_data'].shape[0], 3))
p90 = np.zeros((data['colorbar_data'].shape[0], 3))
for _id in range(0, stats.shape[0]):
    ids = np.where(data['nearest_indices'].ravel() == _id)[0]
    
    datas = data['residual_rgb'].reshape(-1, 3)[ids]
#     reds = data['residual_rgb'][..., 1].ravel()[ids]
    
    means[_id, :] = np.median(np.abs(datas), axis=0)
    p10[_id, :] = np.nanpercentile(np.abs(datas), 10, axis=0)
    p90[_id, :] = np.nanpercentile(np.abs(datas), 90, axis=0)

plt.subplots(figsize=(12,8))
plt.plot(means, '-')
# plt.plot(p10, '-')
# plt.plot(p90, '-')

datas.shape