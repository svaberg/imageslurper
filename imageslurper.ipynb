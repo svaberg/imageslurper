{
 "cells": [
  {
   "cell_type": "markdown",
   "metadata": {},
   "source": [
    "# The image slurper\n",
    "Are you **tired** of asking people for the data behind their published false color plots? Use the image slurper to find the underlying matrix of values from a false-color (heat map) image and its colorbar! \n",
    "\n",
    "The slurper can be used on many types of false color plots, and works best on relatively smooth data."
   ]
  },
  {
   "cell_type": "code",
   "execution_count": null,
   "metadata": {},
   "outputs": [],
   "source": [
    "%reset -f\n",
    "%run imageslurper.py"
   ]
  },
  {
   "cell_type": "markdown",
   "metadata": {},
   "source": [
    "As an example, here is a typical pseudoprojection plot of NASA brightness temperature data and a corresponding colorbar. This plot is not ideal as the ocean appears to be uniformly set to the lowest value which generates sharp gradients along coastlines.\n",
    "\n",
    "![title](img/world-temp.jpg)\n",
    "\n",
    "Next, run the following cell and use the mouse to draw boxes around the plot area and around the colorbar area in the cell output:"
   ]
  },
  {
   "cell_type": "code",
   "execution_count": null,
   "metadata": {},
   "outputs": [],
   "source": [
    "file = \"img/world-temp.jpg\"\n",
    "full_image = PIL.Image.open(file)\n",
    "\n",
    "%matplotlib notebook\n",
    "\n",
    "fig, current_ax = plt.subplots(figsize=(10,4))\n",
    "current_ax.imshow(full_image)\n",
    "current_ax.axis('off')\n",
    "\n",
    "boxes = [Rectangle((1, 1), 0, 0, facecolor='green', edgecolor='green', alpha=0.4),\n",
    "         Rectangle((1, 1), 0, 0, facecolor='blue', edgecolor='blue', alpha=0.4)]\n",
    "\n",
    "current_ax.add_patch(boxes[0])\n",
    "current_ax.add_patch(boxes[1])\n",
    "\n",
    "\n",
    "count=0\n",
    "numbox=len(boxes)\n",
    "def line_select_callback(eclick, erelease):\n",
    "    global count\n",
    "    'eclick and erelease are the press and release events'\n",
    "    x1, y1 = eclick.xdata, eclick.ydata\n",
    "    x2, y2 = erelease.xdata, erelease.ydata\n",
    "\n",
    "    bid = count % numbox\n",
    "    boxes[bid].set_x(x1)\n",
    "    boxes[bid].set_y(y1)\n",
    "    boxes[bid].set_width(x2-x1)\n",
    "    boxes[bid].set_height(y2-y1)\n",
    "    \n",
    "    count += 1\n",
    "\n",
    "RS1 = RectangleSelector(current_ax, line_select_callback,\n",
    "                                       drawtype='box', useblit=True,\n",
    "                                       button=[1],  # don't use middle button\n",
    "                                       minspanx=5, minspany=5,\n",
    "                                       spancoords='pixels',\n",
    "                                       interactive=True,\n",
    "                                       rectprops=dict(facecolor='none', edgecolor = 'black',\n",
    "                                                      alpha=1, fill=True))\n",
    "\n",
    "plt.show()"
   ]
  },
  {
   "cell_type": "markdown",
   "metadata": {},
   "source": [
    "If tick marks extend into the colorbar, try to avoid that region. The mouse interactions loosely crop out the map area  and the colorbar by specifying `map_corners` and `bar_corners`. The two areas can overlap but the map area must not contain any part of the colorbar, or vice versa. The values can also be given by hand below."
   ]
  },
  {
   "cell_type": "code",
   "execution_count": null,
   "metadata": {},
   "outputs": [],
   "source": [
    "%matplotlib inline\n",
    "\n",
    "map_corners = [(m.x0, m.y0, m.x1, m.y1) for m in (boxes[0].get_bbox(),)][0]\n",
    "bar_corners = [(m.x0, m.y0, m.x1, m.y1) for m in (boxes[1].get_bbox(),)][0]\n",
    "\n",
    "print(\"Map corners: \", map_corners)\n",
    "print(\"Colorbar corners:\", bar_corners)"
   ]
  },
  {
   "cell_type": "markdown",
   "metadata": {},
   "source": [
    "The notebook should now isolate the map area and the colorbar from the rest of the image. The reconstruction uses a horizontal colorbar, accomplished by the `rotate` method if necessary. The lowest value should be on the left. "
   ]
  },
  {
   "cell_type": "code",
   "execution_count": null,
   "metadata": {},
   "outputs": [],
   "source": [
    "map_image = full_image.crop(map_corners)\n",
    "colorbar_img = full_image.crop(bar_corners).rotate(0, expand=True)\n",
    "\n",
    "map_image = crop(map_image, thresh=80)\n",
    "colorbar_img = crop(colorbar_img, thresh=100)\n",
    "\n",
    "display('Map', map_image, 'Colorbar', colorbar_img)"
   ]
  },
  {
   "cell_type": "markdown",
   "metadata": {},
   "source": [
    "Resize the image to make the processing faster (optional)."
   ]
  },
  {
   "cell_type": "code",
   "execution_count": null,
   "metadata": {},
   "outputs": [],
   "source": [
    "new_dimensions = 600, 300\n",
    "image = map_image.resize(new_dimensions, PIL.Image.LANCZOS)\n",
    "rgb_img = np.array(image)\n",
    "\n",
    "assert not np.any(np.isnan(rgb_img)), \"No NaN values allowed.\"\n",
    "\n",
    "fig, axs = plt.subplots(1,2, figsize=(12,8))\n",
    "axs[0].imshow(rgb_img)\n",
    "axs[0].set_title(\"Resized image array shape \" + str(rgb_img.shape))\n",
    "\n",
    "colorbar_img = np.array(colorbar_img)\n",
    "colorbar_rgb = np.average(colorbar_img, axis=0)\n",
    "\n",
    "assert not np.any(np.isnan(colorbar_img)), \"No NaN values allowed.\"\n",
    "\n",
    "ax = axs[1]\n",
    "ax.imshow(colorbar_img, extent=(0, colorbar_img.shape[1], 0, 256))\n",
    "for _id, color in enumerate('rgb'):\n",
    "    ax.plot(colorbar_rgb[..., _id], color=color)\n",
    "ax.invert_yaxis()\n",
    "ax.set_title('Colorbar RGB intensities')\n",
    "ax.set_ylim(0, 256)\n",
    "ax.set_yticks(np.linspace(0, 256, 9))\n",
    "plt.legend('RGB')\n",
    "plt.show()"
   ]
  },
  {
   "cell_type": "markdown",
   "metadata": {},
   "source": [
    "The reconstruction alogrithm uses brute force and picks the nearest color in the colormap for each pixel and assigns a value in the range $[0,1]$. The error is also in the range $[0,1]$."
   ]
  },
  {
   "cell_type": "code",
   "execution_count": null,
   "metadata": {},
   "outputs": [],
   "source": [
    "# See https://stackoverflow.com/questions/43843381/digitize-a-colormap\n",
    "def unmap_nearest(img, rgb):\n",
    "    \"\"\" img is an image of shape [n, m, 3], and rgb is a colormap of shape [k, 3]. \"\"\"\n",
    "    d = np.sum(np.abs(img[np.newaxis, ...] - rgb[:, np.newaxis, np.newaxis, :]), axis=-1)    \n",
    "    i = np.argmin(d, axis=0)\n",
    "    err = np.min(d, axis=0)\n",
    "    return i / (rgb.shape[0] - 1), err / (255*3)\n",
    "\n",
    "reconstructed, err = unmap_nearest(rgb_img, colorbar_rgb)"
   ]
  },
  {
   "cell_type": "markdown",
   "metadata": {},
   "source": [
    "Scale the image to the expected by setting `vmin` and `vmax` to the values indicated on the colorbar. "
   ]
  },
  {
   "cell_type": "code",
   "execution_count": null,
   "metadata": {},
   "outputs": [],
   "source": [
    "vmin, vmax = 180, 280\n",
    "reconstructed = reconstructed * (vmax - vmin) + vmin\n",
    "err = err * (vmax - vmin)"
   ]
  },
  {
   "cell_type": "markdown",
   "metadata": {},
   "source": [
    "Create arrays of $x,y$ values to match the original images axes"
   ]
  },
  {
   "cell_type": "code",
   "execution_count": null,
   "metadata": {},
   "outputs": [],
   "source": [
    "x = np.linspace(-180, 180, reconstructed.shape[1])\n",
    "y = np.linspace(90, -90, reconstructed.shape[0])\n",
    "X, Y = np.meshgrid(x,y)\n",
    "\n",
    "assert not np.any(np.isnan(reconstructed)), \"No NaN values allowed.\"\n",
    "assert not np.any(np.isnan(err)), \"No NaN values allowed.\"\n",
    "\n",
    "fig, ax = plt.subplots(figsize=(14,6))\n",
    "img = ax.pcolormesh(X, Y, reconstructed, cmap='viridis')\n",
    "ax.set_title('Reconstructed dataset')\n",
    "plt.colorbar(img,ax=ax)\n",
    "\n",
    "fig, ax = plt.subplots(figsize=(14,6))\n",
    "ax.set_title('Reconstruction error')\n",
    "img = ax.pcolormesh(X, Y, err, cmap='magma')\n",
    "plt.colorbar(img,ax=ax)"
   ]
  },
  {
   "cell_type": "markdown",
   "metadata": {},
   "source": [
    "Remove the tick marks; in areas where the error is larger than `thresh` replace the value by the median of its neighbours. Set the threshold value as low as possible to capture the tick marks extending into the plot area, but not the interior of the plot."
   ]
  },
  {
   "cell_type": "code",
   "execution_count": null,
   "metadata": {},
   "outputs": [],
   "source": [
    "error_threshold=15\n",
    "\n",
    "fig, ax = plt.subplots(1, 1, figsize=(14,6))\n",
    "ax.set_title('Bad pixels')\n",
    "img = ax.imshow(1.0 * (err > error_threshold), cmap='magma')\n",
    "fig.colorbar(img, ax=ax)"
   ]
  },
  {
   "cell_type": "code",
   "execution_count": null,
   "metadata": {},
   "outputs": [],
   "source": [
    "def hole_fill(data, error, di=5, thresh=.02):\n",
    "\n",
    "    data_padded = np.empty([i+2*di for i in data.shape])\n",
    "    data_padded.fill(np.nan)\n",
    "\n",
    "    data_padded[di:-di, di:-di] = reconstructed\n",
    "    data_padded[di:-di, di:-di][error>thresh]=np.nan\n",
    "\n",
    "    result = data\n",
    "    ids = np.where(error>thresh)\n",
    "    ids = np.array(ids)\n",
    "    for x_id, y_id in ids.T:\n",
    "        x_id+=di\n",
    "        y_id+=di\n",
    "\n",
    "        result[x_id-di, y_id-di] = np.nanmedian(data_padded[x_id-di:x_id+di, y_id-di:y_id+di])\n",
    "\n",
    "    return result\n",
    "\n",
    "filled = hole_fill(reconstructed, err, thresh=error_threshold)"
   ]
  },
  {
   "cell_type": "markdown",
   "metadata": {},
   "source": [
    "Plot the reconstructed map with the original colormap. The images should be very similar."
   ]
  },
  {
   "cell_type": "code",
   "execution_count": null,
   "metadata": {},
   "outputs": [],
   "source": [
    "IPython.display.display(full_image)\n",
    "\n",
    "if np.any(np.isnan(filled)):\n",
    "    print(\"Some NaN values could not be filled.\")\n",
    "\n",
    "fig, ax = plt.subplots(figsize=(14,6))\n",
    "original_colormap = ListedColormap(colorbar_rgb/255)\n",
    "img = ax.pcolormesh(X, Y, filled, cmap=original_colormap, vmin=vmin, vmax=vmax)\n",
    "print(\"Image values range: [%f, %f]\" % (filled.min(), filled.max()))\n",
    "\n",
    "fig.colorbar(img)\n",
    "plt.title('Reconstructed dataset using original colorbar')\n",
    "plt.show()"
   ]
  },
  {
   "cell_type": "markdown",
   "metadata": {},
   "source": [
    "Save the image and the colorbar RGB values in a `pickle` file."
   ]
  },
  {
   "cell_type": "code",
   "execution_count": null,
   "metadata": {},
   "outputs": [],
   "source": [
    "save_file = basename(file) + \"-slurped.p\"\n",
    "with open(save_file, 'wb') as save_handle:\n",
    "    pickle.dump([filled, colorbar_rgb],\n",
    "                save_handle,\n",
    "                protocol=pickle.HIGHEST_PROTOCOL)\n",
    "\n",
    "# This reads the objects back:\n",
    "with open(save_file, 'rb') as load_handle:\n",
    "    filled, colorbar_rgb = pickle.load(load_handle)"
   ]
  },
  {
   "cell_type": "markdown",
   "metadata": {},
   "source": [
    "Or save the image as a `csv` file"
   ]
  },
  {
   "cell_type": "code",
   "execution_count": null,
   "metadata": {},
   "outputs": [],
   "source": [
    "np.savetxt(basename(file) + \"-slurped.csv\", \n",
    "              filled, \n",
    "              delimiter=\", \",\n",
    "              fmt=\"%0.6e\",\n",
    "              header=make_header(file, filled.shape))"
   ]
  }
 ],
 "metadata": {
  "kernelspec": {
   "display_name": "Python 3",
   "language": "python",
   "name": "python3"
  },
  "language_info": {
   "codemirror_mode": {
    "name": "ipython",
    "version": 3
   },
   "file_extension": ".py",
   "mimetype": "text/x-python",
   "name": "python",
   "nbconvert_exporter": "python",
   "pygments_lexer": "ipython3",
   "version": "3.7.3"
  }
 },
 "nbformat": 4,
 "nbformat_minor": 2
}
