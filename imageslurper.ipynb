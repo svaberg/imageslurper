{
 "cells": [
  {
   "cell_type": "markdown",
   "metadata": {},
   "source": [
    "# The image slurper\n",
    "Are you **tired** of asking people for the data behind their published false color plots? Use the image slurper to find the underlying matrix of values from a false-color (heat map) image and its colorbar! \n",
    "\n",
    "The slurper can be used on many types of false color plots, and works best on relatively smooth data."
   ]
  },
  {
   "cell_type": "code",
   "execution_count": null,
   "metadata": {},
   "outputs": [],
   "source": [
    "%run imageslurper.py\n",
    "%run rectangle_picker.py\n",
    "%run plot_updater.py"
   ]
  },
  {
   "cell_type": "markdown",
   "metadata": {},
   "source": [
    "As an example, here is a typical pseudoprojection plot of NASA brightness temperature data and a corresponding colorbar. This plot is not ideal as the ocean appears to be uniformly set to the lowest value which generates sharp gradients along coastlines. Also the `jpeg` file format does not preserve color information very well."
   ]
  },
  {
   "cell_type": "code",
   "execution_count": null,
   "metadata": {},
   "outputs": [],
   "source": [
    "file = \"img/world-temp.jpg\"\n",
    "full_image = PIL.Image.open(file)\n",
    "IPython.display.display(full_image)"
   ]
  },
  {
   "cell_type": "markdown",
   "metadata": {},
   "source": [
    "Next, run the following cell and use the mouse to draw boxes around the plot area and around the colorbar area in the cell output:"
   ]
  },
  {
   "cell_type": "code",
   "execution_count": null,
   "metadata": {},
   "outputs": [],
   "source": [
    "%matplotlib notebook\n",
    "select_rectangles(full_image)"
   ]
  },
  {
   "cell_type": "markdown",
   "metadata": {},
   "source": [
    "If tick marks extend into the colorbar, try to avoid that region. The mouse interactions loosely crop out the map area  and the colorbar by specifying `map_corners` and `bar_corners`. The two areas can overlap but the map area must not contain any part of the colorbar, or vice versa. The values can also be given by hand below.\n",
    "\n",
    "There is no more interactivity from here on so the rest of the sheet can be run with `Cell/Run All Below`."
   ]
  },
  {
   "cell_type": "code",
   "execution_count": null,
   "metadata": {},
   "outputs": [],
   "source": [
    "%matplotlib inline\n",
    "print_picker_result()\n",
    "map_corners = get_map_corners()\n",
    "colorbar_corners = get_bar_corners()"
   ]
  },
  {
   "cell_type": "markdown",
   "metadata": {},
   "source": [
    "The notebook should now isolate the map area and the colorbar from the rest of the image. The reconstruction uses a horizontal colorbar, accomplished by the `rotate` method if necessary. The lowest value should be on the left. "
   ]
  },
  {
   "cell_type": "code",
   "execution_count": null,
   "metadata": {},
   "outputs": [],
   "source": [
    "map_image = full_image.crop(map_corners)\n",
    "colorbar_image = full_image.crop(colorbar_corners)\n",
    "\n",
    "map_image = auto_crop(map_image, threshold=100)\n",
    "colorbar_image = auto_crop(colorbar_image, threshold=100)\n",
    "colorbar_image = auto_rotate(colorbar_image)\n",
    "\n",
    "display('Map', map_image, 'Colorbar', colorbar_image)"
   ]
  },
  {
   "cell_type": "markdown",
   "metadata": {},
   "source": [
    "Convert the images of the plot area and colorbar area to `numpy` arrays. Create a numpy RGB array containing the median RGB value for each row of the colorbar image. "
   ]
  },
  {
   "cell_type": "code",
   "execution_count": null,
   "metadata": {},
   "outputs": [],
   "source": [
    "image_data = np.asarray(map_image)\n",
    "\n",
    "assert not np.any(np.isnan(image_data)), \"No NaN values expected in plot area rgb image.\"\n",
    "\n",
    "colorbar_image_data = np.asarray(colorbar_image)\n",
    "assert not np.any(np.isnan(colorbar_image_data)), \"No NaN values expected in colorbar rgb image\"\n",
    "\n",
    "colorbar_data = np.median(colorbar_image_data, axis=0)  # One pixel wide\n",
    "\n",
    "fig, axs = plt.subplots(1, 2, figsize=(12, 6))\n",
    "plot_input(image_data, colorbar_image_data, axs)\n",
    "plt.show()\n"
   ]
  },
  {
   "cell_type": "markdown",
   "metadata": {},
   "source": [
    "The reconstruction alogrithm uses brute force and for each pixel in the plot area it picks the index in the colormap where the colormap RGB value is closest to the pixel RGB value."
   ]
  },
  {
   "cell_type": "code",
   "execution_count": null,
   "metadata": {},
   "outputs": [],
   "source": [
    "norm_order=1\n",
    "nearest_indices = buffered_unmap(image_data, \n",
    "                                 colorbar_data, \n",
    "                                 updater=plot_updater(), \n",
    "                                 norm_order=norm_order)\n",
    "assert (nearest_indices.shape[:2] == image_data.shape[:2])"
   ]
  },
  {
   "cell_type": "markdown",
   "metadata": {},
   "source": [
    "Scale the image to the expected by setting `vmin` and `vmax` to the values indicated on the colorbar. Create arrays of $x,y$ values to match the original images axes"
   ]
  },
  {
   "cell_type": "code",
   "execution_count": null,
   "metadata": {},
   "outputs": [],
   "source": [
    "xlim = (-180, 180)\n",
    "ylim = (90, -90)\n",
    "clim = (180, 280)\n",
    "\n",
    "mapped_colors = colorbar_data[nearest_indices]\n",
    "residual_rgb = image_data - mapped_colors\n",
    "residual_norm = np.linalg.norm(residual_rgb, ord=norm_order, axis=-1)\n",
    "\n",
    "x, y, scaled_image, scaled_residual = auto_scale(nearest_indices, residual_norm,\n",
    "                                                 colorbar_data,\n",
    "                                                 xlim=xlim,\n",
    "                                                 ylim=ylim,\n",
    "                                                 clim=clim)\n",
    "\n",
    "fig, ax = plt.subplots(figsize=(14, 6))\n",
    "img = ax.pcolormesh(x, y, scaled_image, cmap='viridis')\n",
    "ax.set_title('Reconstructed dataset')\n",
    "plt.colorbar(img, ax=ax)\n",
    "\n",
    "fig, ax = plt.subplots(figsize=(14, 6))\n",
    "ax.set_title('Reconstruction residual')\n",
    "img = ax.pcolormesh(x, y, scaled_residual, cmap='magma')\n",
    "plt.colorbar(img, ax=ax)"
   ]
  },
  {
   "cell_type": "markdown",
   "metadata": {},
   "source": [
    "Plot a histogram of the residuals"
   ]
  },
  {
   "cell_type": "code",
   "execution_count": null,
   "metadata": {},
   "outputs": [],
   "source": [
    "fig, ax = plt.subplots()\n",
    "plot_residual_histogram(ax, norm_order, residual_norm, residual_rgb)\n",
    "plt.show()"
   ]
  },
  {
   "cell_type": "markdown",
   "metadata": {},
   "source": [
    "Use hole filling (if needed) to remove tick marks and contours inside the plot area. In areas where the error is larger than `thresh` replace the value by the median of its neighbours. Set the threshold value as low as possible to capture the tick marks extending into the plot area, but not the interior of the plot."
   ]
  },
  {
   "cell_type": "code",
   "execution_count": null,
   "metadata": {},
   "outputs": [],
   "source": [
    "error_threshold = None\n",
    "\n",
    "if error_threshold is not None:\n",
    "    fig, ax = plt.subplots(1, 1, figsize=(14, 6))\n",
    "    ax.set_title('Bad pixels')\n",
    "    ax.imshow(1.0 * (scaled_residual > error_threshold), cmap='magma')\n",
    "\n",
    "    unmapped_filled_image = auto_hole_fill(scaled_image, scaled_residual, error_threshold)\n",
    "\n",
    "    if np.any(np.isnan(unmapped_filled_image)):\n",
    "        print(\"Some NaN values could not be filled.\")\n",
    "\n",
    "else:\n",
    "    unmapped_filled_image = scaled_image"
   ]
  },
  {
   "cell_type": "markdown",
   "metadata": {},
   "source": [
    "Plot the reconstructed map with the original colormap. The images should be very similar."
   ]
  },
  {
   "cell_type": "code",
   "execution_count": null,
   "metadata": {},
   "outputs": [],
   "source": [
    "IPython.display.display(full_image)\n",
    "\n",
    "fig, ax = plt.subplots(figsize=(14, 6))\n",
    "original_colormap = ListedColormap(colorbar_data / 255)\n",
    "\n",
    "img = ax.pcolormesh(x, y, unmapped_filled_image, cmap=original_colormap)\n",
    "fig.colorbar(img)\n",
    "plt.title('Reconstructed dataset using original colorbar')\n",
    "plt.show()"
   ]
  },
  {
   "cell_type": "markdown",
   "metadata": {},
   "source": [
    "Save the image and the colorbar RGB values in a `pickle` file."
   ]
  },
  {
   "cell_type": "code",
   "execution_count": null,
   "metadata": {},
   "outputs": [],
   "source": [
    "# Save pickle and csv file.\n",
    "pickle_file = save_pickle(file, unmapped_filled_image, colorbar_data)\n",
    "print(\"Saved result as \" + str(pickle_file))\n",
    "\n",
    "# This reads the objects back:\n",
    "with open(pickle_file, 'rb') as load_handle:\n",
    "    filled, colorbar_rgb = pickle.load(load_handle)"
   ]
  },
  {
   "cell_type": "markdown",
   "metadata": {},
   "source": [
    "Or save the image as a `csv` file"
   ]
  },
  {
   "cell_type": "code",
   "execution_count": null,
   "metadata": {},
   "outputs": [],
   "source": [
    "csv_file = basename(file) + \"-slurped.csv\"\n",
    "np.savetxt(csv_file,\n",
    "           unmapped_filled_image,\n",
    "           delimiter=\", \",\n",
    "           fmt=\"%0.6e\",\n",
    "           header=make_header(file, unmapped_filled_image.shape))\n",
    "print(\"Saved results as \" + str(csv_file))"
   ]
  }
 ],
 "metadata": {
  "kernelspec": {
   "display_name": "Python 3",
   "language": "python",
   "name": "python3"
  },
  "language_info": {
   "codemirror_mode": {
    "name": "ipython",
    "version": 3
   },
   "file_extension": ".py",
   "mimetype": "text/x-python",
   "name": "python",
   "nbconvert_exporter": "python",
   "pygments_lexer": "ipython3",
   "version": "3.7.3"
  }
 },
 "nbformat": 4,
 "nbformat_minor": 2
}
